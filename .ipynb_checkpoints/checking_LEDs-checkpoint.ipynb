{
 "cells": [
  {
   "cell_type": "markdown",
   "id": "31e876b5",
   "metadata": {},
   "source": [
    "# Import packages"
   ]
  },
  {
   "cell_type": "code",
   "execution_count": 240,
   "id": "d1b2acd0",
   "metadata": {},
   "outputs": [
    {
     "data": {
      "text/html": [
       "<style>.container { width:100% !important; }</style>"
      ],
      "text/plain": [
       "<IPython.core.display.HTML object>"
      ]
     },
     "metadata": {},
     "output_type": "display_data"
    }
   ],
   "source": [
    "import matplotlib.pyplot as plt\n",
    "import matplotlib.dates as mdates\n",
    "import numpy as np\n",
    "from datetime import datetime\n",
    "import datetime as dt\n",
    "import glob, os, pickle, json\n",
    "import pymongo\n",
    "\n",
    "from IPython.display import display, HTML\n",
    "display(HTML(\"<style>.container { width:100% !important; }</style>\"))\n",
    "    \n",
    "def get_records(mongo_client, database_name, collection_name, query):\n",
    "    collection = mongo_client[database_name][collection_name]\n",
    "    response   = collection.find(query)\n",
    "    records = tuple(doc for doc in response)    \n",
    "    return records\n",
    "\n",
    "path_caco_runwise = \"/home/juan/projects/CaCo_TCU_databases_sync/caco_run_information\"\n",
    "query = None\n",
    "\n",
    "date_start = datetime.fromisoformat(\"2024-02-06-00:00:00\")\n",
    "date_stop  = datetime.fromisoformat(\"2024-02-20-00:00:00\")\n",
    "\n",
    "query_tcu = {\"tstart\": {\"$gte\": date_start.timestamp()}, \"tstop\": {\"$lte\": date_stop.timestamp()}}\n",
    "query_caco = {\"date\": {\"$gte\": date_start, \"$lte\": date_stop}}\n",
    "query_caco_runs = {\"start_time\": {\"$gte\": str(date_start)}, \"stop_time\": {\"$lte\": str(date_stop)}}\n",
    "\n",
    "read_db = True"
   ]
  },
  {
   "cell_type": "markdown",
   "id": "cbb32714",
   "metadata": {},
   "source": [
    "## TCU database"
   ]
  },
  {
   "cell_type": "code",
   "execution_count": 320,
   "id": "470eac52",
   "metadata": {},
   "outputs": [
    {
     "name": "stdout",
     "output_type": "stream",
     "text": [
      "Reading TCU database\n"
     ]
    }
   ],
   "source": [
    "print(\"Reading TCU database\")\n",
    "client_tcu  = pymongo.MongoClient(\"localhost:27017\")\n",
    "records_tcu  = get_records(client_tcu,  \"lst1_obs_summary\", \"camera\", query_tcu)"
   ]
  },
  {
   "cell_type": "code",
   "execution_count": 330,
   "id": "5883dde5",
   "metadata": {},
   "outputs": [],
   "source": [
    "mask_drs4     = [r[\"kind\"] == \"calib_drs4\" for r in records_tcu]\n",
    "mask_pedestal = [r[\"kind\"] == \"calib_ped_run\" for r in records_tcu]\n",
    "mask_dtaking  = [r[\"kind\"] == \"data_taking\" for r in records_tcu]\n",
    "\n",
    "records_tcu_drs4     = np.array(records_tcu)[mask_drs4]\n",
    "records_tcu_pedestal = np.array(records_tcu)[mask_pedestal]\n",
    "records_tcu_dtaking  = np.array(records_tcu)[mask_dtaking]"
   ]
  },
  {
   "cell_type": "code",
   "execution_count": 331,
   "id": "25f90d60",
   "metadata": {},
   "outputs": [],
   "source": [
    "tstart_tcu_drs4, tstart_tcu_pedestal, tstart_tcu_dtaking = [], [], []\n",
    "tstop_tcu_drs4, tstop_tcu_pedestal, tstop_tcu_dtaking = [], [], []\n",
    "\n",
    "for r in records_tcu_drs4:\n",
    "    tstart_tcu_drs4.append(datetime.fromtimestamp(r[\"tstart\"]))\n",
    "    tstop_tcu_drs4.append(datetime.fromtimestamp(r[\"tstop\"]))\n",
    "for r in records_tcu_pedestal:\n",
    "    tstart_tcu_pedestal.append(datetime.fromtimestamp(r[\"tstart\"]))\n",
    "    tstop_tcu_pedestal.append(datetime.fromtimestamp(r[\"tstop\"]))\n",
    "for r in records_tcu_dtaking:\n",
    "    tstart_tcu_dtaking.append(datetime.fromtimestamp(r[\"tstart\"]))\n",
    "    tstop_tcu_dtaking.append(datetime.fromtimestamp(r[\"tstop\"]))"
   ]
  },
  {
   "cell_type": "markdown",
   "id": "bf312535",
   "metadata": {},
   "source": [
    "# Reading records of CaCo's and TCU"
   ]
  },
  {
   "cell_type": "code",
   "execution_count": 215,
   "id": "b1c959ad",
   "metadata": {},
   "outputs": [],
   "source": [
    "# def print_tree_structure(client, indent=0):\n",
    "#     for database_name in client.list_database_names():\n",
    "#         print(f\"{database_name}\")\n",
    "#         db = client[database_name]\n",
    "#         for collection_name in db.list_collection_names():\n",
    "#             print(\" \" * (indent + 2) + f\"- {collection_name}\")\n",
    "#             collection = db[collection_name]\n",
    "#             for document in collection.find()[:1]:\n",
    "#                 for key, value in document.items():\n",
    "#                     print(\" \" * (indent + 6) + f\"{key}\")\n",
    "# # print_tree_structure(client_tcu)\n",
    "# print_tree_structure(client_caco)"
   ]
  },
  {
   "cell_type": "code",
   "execution_count": 216,
   "id": "3598fdd3",
   "metadata": {},
   "outputs": [],
   "source": [
    "# colection = client_caco.CACO.ECC_min.find(query_caco)\n",
    "# hierarchical_names = []\n",
    "# for c in colection[:2000]:\n",
    "#     hierarchical_names.append(c[\"hierarchical_name\"])\n",
    "# hierarchical_names = np.sort(np.unique(hierarchical_names))\n",
    "# print(f\"Found {len(hierarchical_names)} hierarchical_names in the database:\")\n",
    "# for h in hierarchical_names:\n",
    "#     print(\".\".join(h.split(\".\")[8:-2]))"
   ]
  },
  {
   "cell_type": "code",
   "execution_count": 294,
   "id": "b24882da",
   "metadata": {},
   "outputs": [
    {
     "name": "stdout",
     "output_type": "stream",
     "text": [
      "Found 295 updates in the database\n"
     ]
    }
   ],
   "source": [
    "docs_runs = []\n",
    "\n",
    "colection_runs = client_caco.CACO.RUN_INFORMATION.find(query_caco_runs)    \n",
    "  \n",
    "for c in colection_runs:\n",
    "    docs_runs.append(c)\n",
    "    \n",
    "print(f\"Found {len(docs_runs)} updates in the database\")"
   ]
  },
  {
   "cell_type": "code",
   "execution_count": 226,
   "id": "69bcd4c0",
   "metadata": {},
   "outputs": [
    {
     "name": "stdout",
     "output_type": "stream",
     "text": [
      "Found 188 updates in the database\n"
     ]
    }
   ],
   "source": [
    "docs_LEDPositions = []\n",
    "\n",
    "colection_ecc = client_caco.CACO.ECC_min.find(query_caco)    \n",
    "    \n",
    "for c in colection_ecc:\n",
    "    if c[\"hierarchical_name\"] == \"CameraControlDataSaver.CameraControl.ModulesAvailable.ECC.exports.ServerECC.ECC.Monitoring.LEDPositions.GeneralStatus.GeneralStatus_v.GeneralStatus_v\":\n",
    "        docs_LEDPositions.append(c)   \n",
    "\n",
    "print(f\"Found {len(docs_LEDPositions)} updates in the database\")"
   ]
  },
  {
   "cell_type": "code",
   "execution_count": 260,
   "id": "398af6ec",
   "metadata": {},
   "outputs": [],
   "source": [
    "dates, leds_status = [], []\n",
    "for d in docs:\n",
    "    dates.append(d[\"date\"])\n",
    "    leds_status.append(d[\"avg\"])\n",
    "    \n",
    "run_starts = []\n",
    "run_stops  = []\n",
    "run_numbers = []\n",
    "for d in docs_runs:\n",
    "    run_numbers.append(d[\"run_number\"])\n",
    "    run_starts.append(datetime.fromisoformat(d[\"start_time\"].replace(\"Z\", \"\").replace(\"T\", \" \")))\n",
    "    run_stops.append(datetime.fromisoformat(d[\"stop_time\"].replace(\"Z\", \"\").replace(\"T\", \" \")))"
   ]
  },
  {
   "cell_type": "code",
   "execution_count": 365,
   "id": "b834994c",
   "metadata": {},
   "outputs": [
    {
     "ename": "ValueError",
     "evalue": "Invalid isoformat string: '2024-02- '",
     "output_type": "error",
     "traceback": [
      "\u001b[0;31m---------------------------------------------------------------------------\u001b[0m",
      "\u001b[0;31mValueError\u001b[0m                                Traceback (most recent call last)",
      "\u001b[0;32m/tmp/ipykernel_3592/3648497195.py\u001b[0m in \u001b[0;36m<module>\u001b[0;34m\u001b[0m\n\u001b[1;32m      1\u001b[0m t_psf = [\n\u001b[1;32m      2\u001b[0m     \u001b[0mdatetime\u001b[0m\u001b[0;34m.\u001b[0m\u001b[0mfromisoformat\u001b[0m\u001b[0;34m(\u001b[0m\u001b[0;34m\"2024-02-10 19:43\"\u001b[0m\u001b[0;34m)\u001b[0m\u001b[0;34m,\u001b[0m\u001b[0;34m\u001b[0m\u001b[0;34m\u001b[0m\u001b[0m\n\u001b[0;32m----> 3\u001b[0;31m     \u001b[0mdatetime\u001b[0m\u001b[0;34m.\u001b[0m\u001b[0mfromisoformat\u001b[0m\u001b[0;34m(\u001b[0m\u001b[0;34m\"2024-02- \"\u001b[0m\u001b[0;34m)\u001b[0m\u001b[0;34m,\u001b[0m\u001b[0;34m\u001b[0m\u001b[0;34m\u001b[0m\u001b[0m\n\u001b[0m\u001b[1;32m      4\u001b[0m     \u001b[0mdatetime\u001b[0m\u001b[0;34m.\u001b[0m\u001b[0mfromisoformat\u001b[0m\u001b[0;34m(\u001b[0m\u001b[0;34m\"2024-02- \"\u001b[0m\u001b[0;34m)\u001b[0m\u001b[0;34m,\u001b[0m\u001b[0;34m\u001b[0m\u001b[0;34m\u001b[0m\u001b[0m\n\u001b[1;32m      5\u001b[0m     \u001b[0mdatetime\u001b[0m\u001b[0;34m.\u001b[0m\u001b[0mfromisoformat\u001b[0m\u001b[0;34m(\u001b[0m\u001b[0;34m\"2024-02- \"\u001b[0m\u001b[0;34m)\u001b[0m\u001b[0;34m,\u001b[0m\u001b[0;34m\u001b[0m\u001b[0;34m\u001b[0m\u001b[0m\n",
      "\u001b[0;31mValueError\u001b[0m: Invalid isoformat string: '2024-02- '"
     ]
    }
   ],
   "source": [
    "t_psf = [\n",
    "    datetime.fromisoformat(\"2024-02-10 19:43\"),\n",
    "    datetime.fromisoformat(\"2024-02-18 23:13\"),\n",
    "    datetime.fromisoformat(\"2024-02-17 19:57\"),\n",
    "    datetime.fromisoformat(\"2024-02-16 19:47\"),\n",
    "    datetime.fromisoformat(\"2024-02-15 22:12\"),\n",
    "    datetime.fromisoformat(\"2024-02-14 21:42\"), # we don't see the SG leds pattern tonight\n",
    "    datetime.fromisoformat(\"2024-02-13 21:26\"), # we don't see the SG leds pattern tonight\n",
    "    datetime.fromisoformat(\"2024-02-12 19:45\"),\n",
    "    datetime.fromisoformat(\"2024-02-12 19:53\"),\n",
    "    datetime.fromisoformat(\"2024-02-11 19:44\"), # We recognize a pattern of dots in the PSF due to the starguider LEDs\n",
    "    datetime.fromisoformat(\"2024-02-10 19:43\"),\n",
    "    datetime.fromisoformat(\"2024-02-08 19:42\"), # We recognize a pattern of dots in the PSF, as shown in the attached image\n",
    "    datetime.fromisoformat(\"2024-02-07 19:42\"),\n",
    "    datetime.fromisoformat(\"2024-02-06 19:41\"),\n",
    "    datetime.fromisoformat(\"2024-02-05 19:40\"),\n",
    "]"
   ]
  },
  {
   "cell_type": "code",
   "execution_count": 367,
   "id": "6d53c353",
   "metadata": {},
   "outputs": [
    {
     "data": {
      "image/png": "[encoded data removed]",
      "text/plain": [
       "<Figure size 1500x450 with 1 Axes>"
      ]
     },
     "metadata": {},
     "output_type": "display_data"
    }
   ],
   "source": [
    "fig, ax = plt.subplots(1, 1, figsize=(15, 4.5))\n",
    "\n",
    "plt.plot(dates, leds_status, color=\"k\", ds=\"steps-post\", label=\"LED status\", zorder=10)\n",
    "\n",
    "for i, doc in enumerate(tstart_tcu_drs4):\n",
    "    ax.axvline(tstart_tcu_drs4[i], lw=1, color=\"b\")\n",
    "for i, doc in enumerate(tstart_tcu_pedestal):\n",
    "    ax.axvline(tstart_tcu_pedestal[i], lw=1, ls=\"-\", color=\"b\")\n",
    "    \n",
    "for i, doc in enumerate(tstart_tcu_dtaking):\n",
    "    ax.axvspan(tstart_tcu_dtaking[i], tstop_tcu_dtaking[i], lw=0, alpha=0.3, color=\"royalblue\")\n",
    "    \n",
    "ax.axvspan(None, None, alpha=0.4, lw=0, color=\"royalblue\", label=\"Datataking\")\n",
    "# ax.plot([], [], color=\"r\", label=\"Pedestal runs\")\n",
    "ax.plot([], [], ls=\"-\", color=\"b\", label=\"DRS4 &\\npedestal\")\n",
    "\n",
    "ax.set_ylabel(\"LEDs General Status\")\n",
    "ax.xaxis.set_major_locator(mdates.DayLocator())\n",
    "ax.xaxis.set_major_formatter(mdates.DateFormatter('%b-%d'))  # Adjust the date format as needed\n",
    "ax.legend(loc=(0.25, 0.1), frameon=False)\n",
    "\n",
    "plt.show()"
   ]
  },
  {
   "cell_type": "code",
   "execution_count": 369,
   "id": "32fbe731",
   "metadata": {},
   "outputs": [
    {
     "data": {
      "image/png": "[encoded data removed]",
      "text/plain": [
       "<Figure size 1500x450 with 1 Axes>"
      ]
     },
     "metadata": {},
     "output_type": "display_data"
    }
   ],
   "source": [
    "fig, ax = plt.subplots(1, 1, figsize=(15, 4.5))\n",
    "\n",
    "plt.plot(dates, leds_status, color=\"k\", ds=\"steps-post\", label=\"LED status\", zorder=10)\n",
    "\n",
    "for i, doc in enumerate(tstart_tcu_drs4):\n",
    "    ax.axvline(tstart_tcu_drs4[i], lw=1, color=\"b\")\n",
    "for i, doc in enumerate(tstart_tcu_pedestal):\n",
    "    ax.axvline(tstart_tcu_pedestal[i], lw=1, ls=\"-\", color=\"b\")\n",
    "    \n",
    "for i, doc in enumerate(tstart_tcu_dtaking):\n",
    "    ax.axvspan(tstart_tcu_dtaking[i], tstop_tcu_dtaking[i], lw=0, alpha=0.3, color=\"royalblue\")\n",
    "    \n",
    "ax.axvspan(None, None, alpha=0.4, lw=0, color=\"royalblue\", label=\"Datataking\")\n",
    "# ax.plot([], [], color=\"lime\", label=\"Pedestal runs\")\n",
    "ax.plot([], [], ls=\"-\", color=\"b\", label=\"DRS4 &\\npedestal\")\n",
    "ax.set_xlim(datetime.fromisoformat(\"2024-02-12-20:00:00\"), datetime.fromisoformat(\"2024-02-13-08:00:00\"))\n",
    "\n",
    "# ax.grid()\n",
    "ax.set_ylabel(\"LEDs General Status\")\n",
    "ax.xaxis.set_major_locator(mdates.HourLocator())\n",
    "ax.xaxis.set_major_formatter(mdates.DateFormatter('%b-%d\\n%H:%M'))  # Adjust the date format as needed\n",
    "ax.legend(loc=2, frameon=False)\n",
    "\n",
    "plt.show()"
   ]
  },
  {
   "cell_type": "code",
   "execution_count": 166,
   "id": "d753f43b",
   "metadata": {},
   "outputs": [
    {
     "data": {
      "image/png": "[encoded data removed]",
      "text/plain": [
       "<Figure size 1500x500 with 1 Axes>"
      ]
     },
     "metadata": {},
     "output_type": "display_data"
    }
   ],
   "source": [
    "fig, ax = plt.subplots(1, 1, figsize=(15, 5))\n",
    "plt.plot(times[:-7], avg[:-7], \"ok-\");\n",
    "plt.plot(times2, avg2, \"or-\");\n",
    "plt.ylim(-0.05)\n",
    "plt.xlim(datetime.fromisoformat(\"2024-02-13-00:58:00\"), datetime.fromisoformat(\"2024-02-13-01:08:00\"))\n",
    "plt.show()"
   ]
  },
  {
   "cell_type": "code",
   "execution_count": null,
   "id": "afcd80bc",
   "metadata": {},
   "outputs": [],
   "source": []
  },
  {
   "cell_type": "code",
   "execution_count": null,
   "id": "c9621ecb",
   "metadata": {},
   "outputs": [],
   "source": []
  },
  {
   "cell_type": "code",
   "execution_count": null,
   "id": "c113adb9",
   "metadata": {},
   "outputs": [],
   "source": []
  },
  {
   "cell_type": "code",
   "execution_count": null,
   "id": "bc5f94b7",
   "metadata": {},
   "outputs": [],
   "source": []
  },
  {
   "cell_type": "code",
   "execution_count": null,
   "id": "bd97d788",
   "metadata": {},
   "outputs": [],
   "source": []
  },
  {
   "cell_type": "code",
   "execution_count": null,
   "id": "5e194c0b",
   "metadata": {},
   "outputs": [],
   "source": []
  },
  {
   "cell_type": "code",
   "execution_count": 2,
   "id": "55d3f927",
   "metadata": {},
   "outputs": [
    {
     "ename": "NameError",
     "evalue": "name 'records_tcu' is not defined",
     "output_type": "error",
     "traceback": [
      "\u001b[0;31m---------------------------------------------------------------------------\u001b[0m",
      "\u001b[0;31mNameError\u001b[0m                                 Traceback (most recent call last)",
      "\u001b[0;32m/tmp/ipykernel_159596/2922935693.py\u001b[0m in \u001b[0;36m<module>\u001b[0;34m\u001b[0m\n\u001b[1;32m      1\u001b[0m \u001b[0;31m# extracting dates of the databases\u001b[0m\u001b[0;34m\u001b[0m\u001b[0;34m\u001b[0m\u001b[0m\n\u001b[0;32m----> 2\u001b[0;31m \u001b[0mtstart_tcu\u001b[0m          \u001b[0;34m=\u001b[0m \u001b[0;34m[\u001b[0m\u001b[0mdatetime\u001b[0m\u001b[0;34m.\u001b[0m\u001b[0mutcfromtimestamp\u001b[0m\u001b[0;34m(\u001b[0m\u001b[0mr\u001b[0m\u001b[0;34m[\u001b[0m\u001b[0;34m\"tstart\"\u001b[0m\u001b[0;34m]\u001b[0m\u001b[0;34m)\u001b[0m       \u001b[0;32mfor\u001b[0m \u001b[0mr\u001b[0m \u001b[0;32min\u001b[0m \u001b[0mrecords_tcu\u001b[0m\u001b[0;34m]\u001b[0m\u001b[0;34m\u001b[0m\u001b[0;34m\u001b[0m\u001b[0m\n\u001b[0m\u001b[1;32m      3\u001b[0m \u001b[0mtstart_caco\u001b[0m         \u001b[0;34m=\u001b[0m \u001b[0;34m[\u001b[0m\u001b[0mdatetime\u001b[0m\u001b[0;34m.\u001b[0m\u001b[0mfromisoformat\u001b[0m\u001b[0;34m(\u001b[0m\u001b[0mr\u001b[0m\u001b[0;34m[\u001b[0m\u001b[0;34m\"start_time\"\u001b[0m\u001b[0;34m]\u001b[0m\u001b[0;34m[\u001b[0m\u001b[0;34m:\u001b[0m\u001b[0;34m-\u001b[0m\u001b[0;36m1\u001b[0m\u001b[0;34m]\u001b[0m\u001b[0;34m)\u001b[0m \u001b[0;32mfor\u001b[0m \u001b[0mr\u001b[0m \u001b[0;32min\u001b[0m \u001b[0mrecords_caco\u001b[0m\u001b[0;34m]\u001b[0m\u001b[0;34m\u001b[0m\u001b[0;34m\u001b[0m\u001b[0m\n\u001b[1;32m      4\u001b[0m \u001b[0mtstart_caco_runwise\u001b[0m \u001b[0;34m=\u001b[0m \u001b[0;34m[\u001b[0m\u001b[0mdatetime\u001b[0m\u001b[0;34m.\u001b[0m\u001b[0mfromisoformat\u001b[0m\u001b[0;34m(\u001b[0m\u001b[0mr\u001b[0m\u001b[0;34m[\u001b[0m\u001b[0;34m\"start_time\"\u001b[0m\u001b[0;34m]\u001b[0m\u001b[0;34m[\u001b[0m\u001b[0;34m:\u001b[0m\u001b[0;34m-\u001b[0m\u001b[0;36m1\u001b[0m\u001b[0;34m]\u001b[0m\u001b[0;34m)\u001b[0m \u001b[0;32mfor\u001b[0m \u001b[0mr\u001b[0m \u001b[0;32min\u001b[0m \u001b[0mrecords_caco_runwise\u001b[0m\u001b[0;34m]\u001b[0m\u001b[0;34m\u001b[0m\u001b[0;34m\u001b[0m\u001b[0m\n\u001b[1;32m      5\u001b[0m \u001b[0;34m\u001b[0m\u001b[0m\n",
      "\u001b[0;31mNameError\u001b[0m: name 'records_tcu' is not defined"
     ]
    }
   ],
   "source": [
    "# extracting dates of the databases\n",
    "tstart_tcu          = [datetime.utcfromtimestamp(r[\"tstart\"])       for r in records_tcu]\n",
    "tstart_caco         = [datetime.fromisoformat(r[\"start_time\"][:-1]) for r in records_caco]\n",
    "tstart_caco_runwise = [datetime.fromisoformat(r[\"start_time\"][:-1]) for r in records_caco_runwise]\n",
    "\n",
    "tstop_tcu          = [datetime.utcfromtimestamp(r[\"tstop\"])       for r in records_tcu]\n",
    "tstop_caco         = [datetime.fromisoformat(r[\"stop_time\"][:-1]) for r in records_caco]\n",
    "tstop_caco_runwise = [datetime.fromisoformat(r[\"stop_time\"][:-1]) for r in records_caco_runwise]\n",
    "\n",
    "# Finding the last run number, it should be in CaCo but we check\n",
    "run_num_tcu          = []\n",
    "run_num_caco         = [r[\"run_number\"] for r in records_caco]\n",
    "run_num_caco_runwise = [r[\"run_number\"] for r in records_caco_runwise]\n",
    "\n",
    "# Adding the run numbers of TCU\n",
    "for r in records_tcu:\n",
    "    # Trying, some cases there is not run number\n",
    "    try:\n",
    "        run_num_tcu.append(r[\"run_number\"])\n",
    "    except KeyError:\n",
    "        run_num_tcu.append(None)\n",
    "\n",
    "# Finding last run\n",
    "higher_run_num = max(max(run_num_caco), max(run_num_caco_runwise))"
   ]
  },
  {
   "cell_type": "markdown",
   "id": "3d4f7480",
   "metadata": {},
   "source": [
    "# Plotting run numbers and dates for each database"
   ]
  },
  {
   "cell_type": "code",
   "execution_count": null,
   "id": "5fa7b952",
   "metadata": {},
   "outputs": [],
   "source": [
    "fig, (ax1, ax2) = plt.subplots(2, 1, figsize=(17, 6), sharex=True)\n",
    "\n",
    "perc_tcu = f\", {len(run_num_tcu)/higher_run_num*100:.2f}% of total\"\n",
    "perc_caco_runwise = f\", {len(run_num_caco_runwise)/higher_run_num*100:.2f}% of total\"\n",
    "perc_caco =  f\", {len(run_num_caco)/higher_run_num*100:.2f}% of total\"\n",
    "\n",
    "ax1.plot(tstart_tcu,          np.repeat(2, len(tstart_tcu)),          \".\", c=\"darkblue\",    label=f\"TCU --> {len(records_tcu):6} entries\" + perc_tcu)\n",
    "ax1.plot(tstart_caco_runwise, np.repeat(1, len(tstart_caco_runwise)), \".\", c=\"deepskyblue\", label=f\"CaCo run-wise --> {len(records_caco_runwise):6} entries\" + perc_caco_runwise)\n",
    "ax1.plot(tstart_caco,         np.repeat(0, len(tstart_caco)),         \".\", c=\"crimson\",     label=f\"CaCo --> {len(records_caco):6} entries\" + perc_caco)\n",
    "\n",
    "ax2.plot(tstart_tcu, run_num_tcu,                   \"o\", ms=2,  c=\"darkblue\",    label=f\"TCU\", zorder=10)\n",
    "ax2.plot(tstart_caco_runwise, run_num_caco_runwise, \"o\", ms=12, c=\"deepskyblue\", label=\"CaCo run-wise\")\n",
    "ax2.plot(tstart_caco, run_num_caco,                 \"o\", ms=5,  c=\"crimson\",     label=\"CaCo\")\n",
    "\n",
    "date_runnumber_at_tcu     = datetime.utcfromtimestamp(records_tcu[1538][\"tstart\"])\n",
    "str_date_runnumber_at_tcu = str(date_runnumber_at_tcu).split(\" \")[0]\n",
    "\n",
    "for ax in [ax1, ax2]:\n",
    "    ax.axvline(date_runnumber_at_tcu, color=\"gray\", ls=\"--\", label=\"\" if ax==ax1 else f\"Last date with TCU storing no Run Number {str_date_runnumber_at_tcu}\")\n",
    "    ax.legend(loc=2)\n",
    "    \n",
    "ax1.set_yticks([])\n",
    "ax1.set_ylim([-0.5, 2.5])\n",
    "ax1.set_title(f\"Last run number {higher_run_num}\")\n",
    "ax2.set_ylabel(\"Run number\")\n",
    "fig.tight_layout()\n",
    "plt.show()"
   ]
  },
  {
   "cell_type": "markdown",
   "id": "26498974",
   "metadata": {},
   "source": [
    "# Adding null run number information to TCU runs"
   ]
  },
  {
   "cell_type": "code",
   "execution_count": null,
   "id": "c986cc8a",
   "metadata": {},
   "outputs": [],
   "source": [
    "for rec in records_tcu:\n",
    "    try:\n",
    "        rec[\"run_number\"]\n",
    "    except KeyError:\n",
    "        rec[\"run_number\"] = np.nan"
   ]
  },
  {
   "cell_type": "markdown",
   "id": "70ee9eff",
   "metadata": {},
   "source": [
    "# Extracting important timestamps of databases"
   ]
  },
  {
   "cell_type": "code",
   "execution_count": null,
   "id": "b41e8cbc",
   "metadata": {},
   "outputs": [],
   "source": [
    "%%time\n",
    "\n",
    "filtered_runs        = []\n",
    "t_tcu, t_c, t_c_r    = [], [], []\n",
    "tt_tcu, tt_c, tt_c_r = [], [], []\n",
    "\n",
    "for r in run_num_caco:\n",
    "    \n",
    "    if r in run_num_caco_runwise and r in run_num_tcu:\n",
    "        \n",
    "        t_c.append(   datetime.fromisoformat(   [rr for rr in records_caco         if rr[\"run_number\"] == r][0][\"start_time\"][:-1]))\n",
    "        t_c_r.append( datetime.fromisoformat(   [rr for rr in records_caco_runwise if rr[\"run_number\"] == r][0][\"start_time\"][:-1]))\n",
    "        t_tcu.append( datetime.utcfromtimestamp([rr for rr in records_tcu          if rr[\"run_number\"] == r][0][\"tstart\"]))\n",
    "        \n",
    "        tt_c.append(  datetime.fromisoformat(   [rr for rr in records_caco         if rr[\"run_number\"] == r][0][\"stop_time\"][:-1]))\n",
    "        tt_c_r.append(datetime.fromisoformat(   [rr for rr in records_caco_runwise if rr[\"run_number\"] == r][0][\"stop_time\"][:-1]))\n",
    "        tt_tcu.append(datetime.utcfromtimestamp([rr for rr in records_tcu          if rr[\"run_number\"] == r][0][\"tstop\"]))\n",
    "        \n",
    "        filtered_runs.append(r)\n",
    "        \n",
    "telapsed_tcu = np.array([(a1 - a2).total_seconds() for a1, a2 in zip(tt_tcu, t_tcu)])\n",
    "telapsed_c   = np.array([(a1 - a2).total_seconds() for a1, a2 in zip(tt_c,   t_c)])\n",
    "telapsed_c_r = np.array([(a1 - a2).total_seconds() for a1, a2 in zip(tt_c_r, t_c_r)])\n",
    "\n",
    "delta_start_c_c_r = np.array([(a1 - a2).total_seconds() for a1, a2 in zip(t_c, t_c_r)])\n",
    "delta_stop_c_c_r  = np.array([(a1 - a2).total_seconds() for a1, a2 in zip(tt_c, tt_c_r)])\n",
    "delta_start_c_tcu = np.array([(a2 - a1).total_seconds() for a1, a2 in zip(t_c, t_tcu)])\n",
    "delta_stop_c_tcu  = np.array([(a2 - a1).total_seconds() for a1, a2 in zip(tt_c, tt_tcu)])"
   ]
  },
  {
   "cell_type": "markdown",
   "id": "221c905f",
   "metadata": {},
   "source": [
    "# Distribution of time differences in start and end times"
   ]
  },
  {
   "cell_type": "code",
   "execution_count": null,
   "id": "e3b1aa1b",
   "metadata": {},
   "outputs": [],
   "source": [
    "N = 80\n",
    "Ntime = 200\n",
    "bins_start = np.linspace(0, 3, N)\n",
    "bins_stop  = np.linspace(-40, -10, N)"
   ]
  },
  {
   "cell_type": "code",
   "execution_count": null,
   "id": "bae4cd5e",
   "metadata": {},
   "outputs": [],
   "source": [
    "fig, ((ax1, ax2), (ax3, ax4)) = plt.subplots(2, 2, figsize=(5, 5), sharex=\"col\", sharey=\"row\", gridspec_kw={'height_ratios': [1, 2.5], 'width_ratios': [2.5, 1]})\n",
    "\n",
    "ax1.hist(delta_start_c_tcu, bins_start, color=\"crimson\")\n",
    "ax4.hist(delta_stop_c_tcu,  bins_stop,  color=\"darkblue\", orientation=\"horizontal\")\n",
    "ax3.hist2d(delta_start, delta_stop, bins=(bins_start, bins_stop))\n",
    "\n",
    "fig.delaxes(ax2)\n",
    "plt.subplots_adjust(wspace=0, hspace=0)\n",
    "ax1.set_ylabel(\"Counts\")\n",
    "ax4.set_xlabel(\"Counts\")\n",
    "ax3.set_ylabel(\"Stop $\\\\Delta t$ (t_tcu - t_caco) [s]\")\n",
    "ax3.set_xlabel(\"Start $\\\\Delta t$ (t_tcu - t_caco) [s]\")\n",
    "plt.show()"
   ]
  },
  {
   "cell_type": "markdown",
   "id": "17fa7520",
   "metadata": {},
   "source": [
    "# Time distribution of the time differences"
   ]
  },
  {
   "cell_type": "code",
   "execution_count": null,
   "id": "c4761a3f",
   "metadata": {},
   "outputs": [],
   "source": [
    "fig, ((ax1, ax2), (ax3, ax4)) = plt.subplots(2, 2, figsize=(12, 6), sharex=\"col\", sharey=\"row\", gridspec_kw={'width_ratios': [2, 0.6]})\n",
    "\n",
    "ax1.hist2d([t.timestamp() for t in t_c], delta_start_c_tcu, bins=(Ntime, bins_start))\n",
    "ax3.hist2d([t.timestamp() for t in t_c], delta_stop_c_tcu,  bins=(Ntime, bins_stop))\n",
    "\n",
    "ax2.hist(delta_start, bins_start, color=\"crimson\", orientation=\"horizontal\")\n",
    "ax4.hist(delta_stop,  bins_stop,  color=\"darkblue\", orientation=\"horizontal\")\n",
    "\n",
    "plt.subplots_adjust(wspace=0)\n",
    "ax4.set_xlabel(\"Counts\")\n",
    "ax1.set_ylabel(\"Start $\\\\Delta t$ (t_tcu - t_caco) [s]\")\n",
    "ax3.set_ylabel(\"Stop $\\\\Delta t$ (t_tcu - t_caco) [s]\")\n",
    "ax2.set_xscale(\"log\")\n",
    "ax4.set_xscale(\"log\")\n",
    "ticks = ax3.get_xticks()\n",
    "ax3.set_xticklabels([str(datetime.utcfromtimestamp(t))[:-12] for t in ticks])\n",
    "ax3.set_xlim([np.min(t_c).timestamp(), np.max(t_c).timestamp()])\n",
    "plt.show()"
   ]
  },
  {
   "cell_type": "markdown",
   "id": "b347be5c",
   "metadata": {},
   "source": [
    "# Information in the databases:"
   ]
  },
  {
   "cell_type": "code",
   "execution_count": null,
   "id": "44d4a287",
   "metadata": {},
   "outputs": [],
   "source": [
    "records_tcu[-10]"
   ]
  },
  {
   "cell_type": "code",
   "execution_count": null,
   "id": "cc3fa318",
   "metadata": {},
   "outputs": [],
   "source": [
    "for i in range(len(filtered_runs)):\n",
    "    if delta_cc_stop[i] < 0:\n",
    "        print(filtered_runs[i])"
   ]
  },
  {
   "cell_type": "code",
   "execution_count": null,
   "id": "2e88d450",
   "metadata": {},
   "outputs": [],
   "source": [
    "rec1, rec2 = [r for r in records_caco if r[\"run_number\"] == 14147]\n",
    "rect      = [r for r in records_tcu if r[\"run_number\"] == 14147]\n",
    "rec1, rec2, rect"
   ]
  },
  {
   "cell_type": "code",
   "execution_count": null,
   "id": "dba4d8a9",
   "metadata": {},
   "outputs": [],
   "source": [
    "rt1, rt2 = datetime.fromisoformat(rec1[\"start_time\"][:-1]), datetime.fromisoformat(rec2[\"start_time\"][:-1])\n",
    "rtt, rttype = rect[0][\"tstart\"], rect[0][\"kind\"]\n",
    "print(f\"Run 14147-1:\\n{rt1}\\n{rt2}\")\n",
    "print(f\"\\nTCU timestamp:\\n{datetime.utcfromtimestamp(rtt)} --> {rttype}\")"
   ]
  },
  {
   "cell_type": "code",
   "execution_count": null,
   "id": "e86cca73",
   "metadata": {},
   "outputs": [],
   "source": []
  },
  {
   "cell_type": "code",
   "execution_count": null,
   "id": "e78de764",
   "metadata": {
    "scrolled": true
   },
   "outputs": [],
   "source": [
    "for i in range(len(records_caco[:])):\n",
    "    \n",
    "    rec = records_caco[i]\n",
    "    run_1 = rec[\"run_number\"]\n",
    "    if run_1 == 0 or run_1 == 1:\n",
    "        stime = datetime.fromisoformat(rec[\"start_time\"][:-1]).replace(microsecond=0)\n",
    "        \n",
    "        tstart, tstop = datetime.fromisoformat(rec[\"start_time\"][:-1]), datetime.fromisoformat(rec[\"stop_time\"][:-1])\n",
    "        delta = (tstop - tstart).total_seconds()/60\n",
    "        a, b = records_caco[i-1][\"run_number\"], records_caco[i+1][\"run_number\"]\n",
    "        print(f\"\\nFor run from {stime}:\\nrun_id = {run_1}\\nbefore/after run: {a}/{b}\\nlasted = {delta:.1f} min\")"
   ]
  },
  {
   "cell_type": "code",
   "execution_count": null,
   "id": "1c06ef7d",
   "metadata": {},
   "outputs": [],
   "source": [
    "for i in range(len(records_tcu[:])):\n",
    "    \n",
    "    rec = records_tcu[i]\n",
    "    run_1 = rec[\"run_number\"]\n",
    "    if run_1 == 0 or run_1 == 1 and run_1 != np.nan:\n",
    "        stime = datetime.utcfromtimestamp(rec[\"tstart\"]).replace(microsecond=0)\n",
    "        \n",
    "        tstart, tstop = datetime.utcfromtimestamp(rec[\"tstart\"]), datetime.utcfromtimestamp(rec[\"tstop\"])\n",
    "        delta = (tstop - tstart).total_seconds()/60\n",
    "        a, b = records_caco[i-1][\"run_number\"], records_caco[i+1][\"run_number\"]\n",
    "        kind = rec[\"kind\"]\n",
    "        print(f\"\\nFor run from {stime}:\\nrun_id = {run_1}\\nbefore/after run: {a}/{b}\\nlasted = {delta:.1f} min\")\n",
    "        print(f\"run type: {kind}\")"
   ]
  },
  {
   "cell_type": "code",
   "execution_count": null,
   "id": "35bd93fc",
   "metadata": {},
   "outputs": [],
   "source": []
  },
  {
   "cell_type": "code",
   "execution_count": null,
   "id": "30febaba",
   "metadata": {},
   "outputs": [],
   "source": []
  },
  {
   "cell_type": "code",
   "execution_count": null,
   "id": "ce02a573",
   "metadata": {},
   "outputs": [],
   "source": [
    "a = datetime.utcfromtimestamp(ticks[0])\n",
    "str(a)[:-12]"
   ]
  },
  {
   "cell_type": "code",
   "execution_count": null,
   "id": "b6675683",
   "metadata": {
    "scrolled": true
   },
   "outputs": [],
   "source": [
    "\n",
    "for record in records_tcu[:100]:\n",
    "    \n",
    "    tstart = round_s(datetime.utcfromtimestamp(record[\"tstart\"]))\n",
    "    tstop  = round_s(datetime.utcfromtimestamp(record[\"tstop\"]))\n",
    "    \n",
    "    run_dict_caco = [rec for rec in records_caco if round_s(datetime.fromisoformat(rec[\"start_time\"][:-1])) == tstart]\n",
    "\n",
    "    if len(run_dict_caco) > 0:\n",
    "\n",
    "        c += 1\n",
    "        print(run_dict_caco[0][\"run_number\"])\n",
    "        \n",
    "        record[\"run_number\"] = run_dict_caco[0][\"run_number\"]\n",
    "    else:\n",
    "        print(\"----\")"
   ]
  },
  {
   "cell_type": "code",
   "execution_count": null,
   "id": "5e8ffba3",
   "metadata": {},
   "outputs": [],
   "source": [
    "[r for r in records_caco if r[\"run_number\"] == rr][0][\"start_time\"]"
   ]
  },
  {
   "cell_type": "code",
   "execution_count": null,
   "id": "9026b399",
   "metadata": {},
   "outputs": [],
   "source": [
    "rr = 6707\n",
    "\n",
    "print(datetime.fromisoformat([r for r in records_caco if r[\"run_number\"] == rr][0][\"start_time\"][:-1]))\n",
    "# print(round_s(datetime.utcfromtimestamp([records_tcu.index(r) for r in records_tcu if r[\"run_number\"] == rr][0][\"tstart\"])))\n",
    "\n",
    "print(datetime.utcfromtimestamp(records_tcu[2][\"tstart\"]))"
   ]
  },
  {
   "cell_type": "code",
   "execution_count": null,
   "id": "28adc9bd",
   "metadata": {},
   "outputs": [],
   "source": [
    "rr = 6707\n",
    "\n",
    "print(datetime.fromisoformat([r for r in records_caco if r[\"run_number\"] == rr][0][\"stop_time\"][:-1]))\n",
    "# print(round_s(datetime.utcfromtimestamp([records_tcu.index(r) for r in records_tcu if r[\"run_number\"] == rr][0][\"tstart\"])))\n",
    "\n",
    "print(datetime.utcfromtimestamp(records_tcu[2][\"tstop\"]))"
   ]
  },
  {
   "cell_type": "code",
   "execution_count": null,
   "id": "83bcc324",
   "metadata": {},
   "outputs": [],
   "source": [
    "rr = 6707\n",
    "\n",
    "round_s(datetime.fromisoformat([r for r in records_caco if r[\"run_number\"] == rr][0][\"start_time\"][:-1]))"
   ]
  },
  {
   "cell_type": "code",
   "execution_count": null,
   "id": "3a25d0be",
   "metadata": {},
   "outputs": [],
   "source": [
    "round_s(datetime.fromisoformat(records_caco[105][\"start_time\"][:-1]))"
   ]
  },
  {
   "cell_type": "code",
   "execution_count": null,
   "id": "8130f824",
   "metadata": {},
   "outputs": [],
   "source": [
    "for rec in records_tcu:\n",
    "    try:\n",
    "        rec[\"run_number\"]\n",
    "    except KeyError:\n",
    "        rec[\"run_number\"] = np.nan"
   ]
  },
  {
   "cell_type": "code",
   "execution_count": null,
   "id": "85dafbf6",
   "metadata": {},
   "outputs": [],
   "source": [
    "def get_run_num_tcu(recs):\n",
    "    run_numbers = []\n",
    "    for rec in recs:\n",
    "        try:\n",
    "            run_numbers.append(rec[\"run_number\"])\n",
    "        except KeyError:\n",
    "            pass\n",
    "    return np.array(run_numbers)\n",
    "\n",
    "\n",
    "run_num_tcu  = get_run_num_tcu(records_tcu)\n",
    "run_num_caco = np.array([rec[\"run_number\"] for rec in records_caco])\n",
    "\n",
    "tstart_tcu  = np.array([datetime.utcfromtimestamp(rec[\"tstart\"])       for rec in records_tcu])\n",
    "tstop_tcu   = np.array([datetime.utcfromtimestamp(rec[\"tstop\"])        for rec in records_tcu])\n",
    "tstart_caco = np.array([datetime.fromisoformat(rec[\"start_time\"][:-1]) for rec in records_caco])\n",
    "tstop_caco  = np.array([datetime.fromisoformat(rec[\"stop_time\"][:-1])  for rec in records_caco])\n",
    "\n",
    "deltat_tcu = tstop_tcu - tstart_tcu\n",
    "deltat_caco = tstop_caco - tstart_caco"
   ]
  },
  {
   "cell_type": "code",
   "execution_count": null,
   "id": "827a8c71",
   "metadata": {
    "scrolled": false
   },
   "outputs": [],
   "source": [
    "higher_run = max(np.nanmax(run_num_caco), np.nanmax(run_num_tcu))\n",
    "\n",
    "for run in np.arange(higher_run+1)[-1000:-990]:\n",
    "    \n",
    "    run_dict_caco = [rec for rec in records_caco if rec[\"run_number\"] == run]\n",
    "    isincaco = len(run_dict_caco) > 0\n",
    "    \n",
    "    run_dict_tcu = [rec for rec in records_tcu if rec[\"run_number\"] == run]\n",
    "    isintcu = len(run_dict_tcu) > 0\n",
    "\n",
    "    if isincaco and isintcu:\n",
    "        col = \"92\"\n",
    "    elif isincaco or isintcu:\n",
    "        col = \"93\"\n",
    "    else:\n",
    "        col = \"91\"\n",
    "        \n",
    "    if isintcu:\n",
    "        end = \"type --> \"+run_dict_tcu[0][\"kind\"]\n",
    "    else:\n",
    "        end = \"\"\n",
    "    if len(run_dict_tcu) == 2:\n",
    "        end = end + \" - 2 same run_num TCU runs!!!!!\"\n",
    "    \n",
    "    print(f\"\\033[{col}mRun {run}  inCaCo: {isincaco} \\tinTCU: {isintcu}\\t{end}\")\n",
    "    \n",
    "    try:\n",
    "        T = round_s(datetime.utcfromtimestamp(run_dict_tcu[0][\"tstart\"]))\n",
    "    except:\n",
    "        T=0\n",
    "    \n",
    "    print(round_s(datetime.fromisoformat(run_dict_caco[0][\"start_time\"][:-1])), ' -- ',T, ' --> ',round_s(datetime.fromisoformat(run_dict_caco[0][\"start_time\"][:-1])) == T)"
   ]
  },
  {
   "cell_type": "code",
   "execution_count": null,
   "id": "b43cd1ed",
   "metadata": {},
   "outputs": [],
   "source": [
    "plt.scatter([t.timestamp() for t in tstart_caco], \n",
    "            [d.total_seconds() for d in deltat_caco], \n",
    "            marker=\".\")\n",
    "plt.scatter([t.timestamp() for t in tstart_tcu], \n",
    "            [d.total_seconds() for d in deltat_tcu], \n",
    "            marker=\".\")\n",
    "plt.show()"
   ]
  },
  {
   "cell_type": "code",
   "execution_count": null,
   "id": "6d6bd5d8",
   "metadata": {},
   "outputs": [],
   "source": [
    "plt.hist([d.total_seconds()/3600 for d in deltat_tcu], 100);\n",
    "plt.hist([d.total_seconds()/3600 for d in deltat_caco], 100);"
   ]
  },
  {
   "cell_type": "code",
   "execution_count": null,
   "id": "cca97524",
   "metadata": {
    "scrolled": false
   },
   "outputs": [],
   "source": []
  },
  {
   "cell_type": "code",
   "execution_count": null,
   "id": "3fc42f12",
   "metadata": {},
   "outputs": [],
   "source": [
    "import datetime\n",
    "datetime.datetime.fromtimestamp(1643933651.8415616)"
   ]
  },
  {
   "cell_type": "code",
   "execution_count": null,
   "id": "7e59c47d",
   "metadata": {},
   "outputs": [],
   "source": [
    "mongo_client = pymongo.MongoClient('localhost:27017')\n",
    "\n",
    "db = mongo_client['lst1_obs_summary']\n",
    "# col = db[\"RUN_INFORMATION\"]\n",
    "\n",
    "\n",
    "# # query = dict()\n",
    "\n",
    "# # query.update({\"tstart\": {\"$gte\": datetime.datetime.fromisoformat(tstart).timestamp()}})\n",
    "# # query.update({\"tstop\": {\"$lte\": datetime.datetime.fromisoformat(tstop).timestamp()}})\n",
    "\n",
    "# response = col.find()\n",
    "\n",
    "\n",
    "# records = tuple(\n",
    "#     doc for doc in response\n",
    "# )"
   ]
  },
  {
   "cell_type": "code",
   "execution_count": null,
   "id": "f306d8bd",
   "metadata": {},
   "outputs": [],
   "source": [
    "db.list_collection_names()"
   ]
  },
  {
   "cell_type": "code",
   "execution_count": null,
   "id": "62b6ebdd",
   "metadata": {},
   "outputs": [],
   "source": [
    "mongo_client.list_database_names()"
   ]
  },
  {
   "cell_type": "code",
   "execution_count": null,
   "id": "2faf49e1",
   "metadata": {},
   "outputs": [],
   "source": [
    "records[0]"
   ]
  },
  {
   "cell_type": "code",
   "execution_count": null,
   "id": "df7dd184",
   "metadata": {
    "scrolled": false
   },
   "outputs": [],
   "source": [
    "records[1001][\"config\"][\"caco\"][0].keys()"
   ]
  },
  {
   "cell_type": "code",
   "execution_count": null,
   "id": "11b4c8b2",
   "metadata": {},
   "outputs": [],
   "source": [
    "{\n",
    "  \"run_number\": 2103,\n",
    "  \"start_time\": \"2020-06-18T02:44:37.585Z\",\n",
    "  \"stop_time\": \"2020-06-18T02:45:02.742Z\",\n",
    "  \"tib\": {\n",
    "    \"DigitalPedestalConfigRate\": 0,\n",
    "    \"AnalogPedestalEnable\": false,\n",
    "    \"PedestalRate\": 0.0,\n",
    "    \"CameraRate\": 1868.0,\n",
    "    \"FakeTriggerEnable\": false,\n",
    "    \"PeriodicPedestalFrequency\": 0,\n",
    "    \"PedestalEnable\": false,\n",
    "    \"PeriodicPedestalEnable\": false,\n",
    "    \"valid\": true,\n",
    "    \"LocalRate\": 2167.0,\n",
    "    \"SoftwareTriggerEnable\": false,\n",
    "    \"DelayLocal\": 0.0,\n",
    "    \"SlowControlEnable\": false,\n",
    "    \"CalibrationRate\": 0.0,\n",
    "    \"MonoEnable\": false,\n",
    "    \"BUSYRate\": 34.0,\n",
    "    \"CollectedRate\": 1902.0,\n",
    "    \"InputMask\": 0,\n",
    "    \"CalibrationEnable\": false,\n",
    "    \"DigitalPedestalEnable\": false,\n",
    "    \"AnalogPedestalThreshold\": 0.0,\n",
    "    \"SoftwareTriggerRate\": 0.0\n",
    "  },\n",
    "  \"cbox\": {\n",
    "    \"valid\": true,\n",
    "    \"hz\": \"No available\",\n",
    "    \"wheel1_position\": \"No available\",\n",
    "    \"temperature\": \"No available\",\n",
    "    \"duty\": \"No available\",\n",
    "    \"humidity\": \"No available\",\n",
    "    \"wheel2_position\": \"No available\",\n",
    "    \"cycles\": \"No available\"\n",
    "  }\n",
    "}"
   ]
  },
  {
   "cell_type": "markdown",
   "id": "57979ab0",
   "metadata": {},
   "source": [
    "* Run number\n",
    "* Time start/stop\n",
    "* Kind of run data_takin/calib_drs4...\n",
    "* configuration used\n",
    "    * camera\n",
    "    * caco\n",
    "        * Name of command\n",
    "        * data - xml file\n",
    "        * application time\n",
    "    * cbox\n",
    "* health\n",
    "    * local rate\n",
    "        * min/max/mean\n",
    "    * anode_current\n",
    "        * min/max/mean"
   ]
  }
 ],
 "metadata": {
  "kernelspec": {
   "display_name": "Python 3 (ipykernel)",
   "language": "python",
   "name": "python3"
  },
  "language_info": {
   "codemirror_mode": {
    "name": "ipython",
    "version": 3
   },
   "file_extension": ".py",
   "mimetype": "text/x-python",
   "name": "python",
   "nbconvert_exporter": "python",
   "pygments_lexer": "ipython3",
   "version": "3.9.13"
  }
 },
 "nbformat": 4,
 "nbformat_minor": 5
}
